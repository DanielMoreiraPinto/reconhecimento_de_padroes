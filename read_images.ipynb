{
 "cells": [
  {
   "cell_type": "code",
   "execution_count": 1,
   "metadata": {},
   "outputs": [],
   "source": [
    "import os\n",
    "from PIL import Image\n",
    "import numpy as np\n",
    "import matplotlib.pyplot as plt"
   ]
  },
  {
   "cell_type": "code",
   "execution_count": 2,
   "metadata": {},
   "outputs": [],
   "source": [
    "dataset_path = 'C:\\\\Users\\\\joao_\\\\Documents\\\\Trabalho-ReconhecimentoPadroes\\\\datasets\\\\Mi3_Aligned'"
   ]
  },
  {
   "cell_type": "code",
   "execution_count": 3,
   "metadata": {},
   "outputs": [],
   "source": [
    "def contar_imagens_com_dimensoes(caminho_da_pasta):\n",
    "    contador = 0\n",
    "    if not os.path.isdir(caminho_da_pasta):\n",
    "        print(f'O caminho \"{caminho_da_pasta}\" não é um diretório válido.')\n",
    "        return contador\n",
    "    for pasta_raiz, sub_pastas, arquivos in os.walk(caminho_da_pasta):\n",
    "        for arquivo in arquivos:\n",
    "            if arquivo.lower().endswith(('.jpg', '.jpeg', '.png', '.gif', '.bmp')):\n",
    "                caminho_completo = os.path.join(pasta_raiz, arquivo)\n",
    "                try:\n",
    "                    imagem = Image.open(caminho_completo)\n",
    "                    largura, altura = imagem.size\n",
    "                    if largura == 3000 and altura == 3000:\n",
    "                        contador += 1\n",
    "                except Exception as e:\n",
    "                    print(f\"Erro ao abrir a imagem {caminho_completo}: {str(e)}\")\n",
    "    return contador"
   ]
  },
  {
   "cell_type": "code",
   "execution_count": 4,
   "metadata": {},
   "outputs": [],
   "source": [
    "def cortar_imagem(image_path):\n",
    "    imagem = Image.open(image_path)\n",
    "    largura, altura = imagem.size\n",
    "    janelas = []\n",
    "\n",
    "    for x in range(0, largura, 300):\n",
    "        for y in range(0, altura, 300):\n",
    "            caixa = (x, y, x + 300, y + 300)\n",
    "            janela = imagem.crop(caixa)\n",
    "            janelas.append(np.array(janela))\n",
    "\n",
    "    return janelas"
   ]
  },
  {
   "cell_type": "code",
   "execution_count": 5,
   "metadata": {},
   "outputs": [],
   "source": [
    "def criar_dataset(caminho_da_pasta):\n",
    "    imagens = []\n",
    "    labels = []\n",
    "    adicionou_ruido = False\n",
    "\n",
    "    for pasta_raiz, sub_pastas, arquivos in os.walk(caminho_da_pasta):\n",
    "        for arquivo in arquivos:\n",
    "            if arquivo.endswith('Reference.bmp'):\n",
    "                imagem_path = os.path.join(pasta_raiz, arquivo)\n",
    "                janelas = cortar_imagem(imagem_path)\n",
    "                imagens.extend(janelas)\n",
    "                labels.extend([0] * len(janelas))\n",
    "                # print('imagem refernce', arquivo)\n",
    "            elif arquivo.endswith('Noisy.bmp') and not adicionou_ruido:\n",
    "                imagem_path = os.path.join(pasta_raiz, arquivo)\n",
    "                janelas = cortar_imagem(imagem_path)\n",
    "                imagens.extend(janelas)\n",
    "                labels.extend([1] * len(janelas))\n",
    "                adicionou_ruido = True\n",
    "                # print('imagem noisy', arquivo)\n",
    "        adicionou_ruido = False\n",
    "\n",
    "    return np.array(imagens), np.array(labels)"
   ]
  },
  {
   "cell_type": "code",
   "execution_count": 6,
   "metadata": {},
   "outputs": [],
   "source": [
    "## caso queira plotar as imagens e labels para confirmar\n",
    "\n",
    "def plotar_imagens_com_labels(imagens, labels):\n",
    "    if len(imagens) != len(labels):\n",
    "        raise ValueError(\"O número de imagens deve ser igual ao número de labels.\")\n",
    "    num_imagens = len(imagens)\n",
    "    num_colunas = 4\n",
    "    fig, axs = plt.subplots(1, num_colunas, figsize=(16, 4))\n",
    "    for i in range(num_imagens):\n",
    "        imagem = imagens[i]\n",
    "        label = labels[i]\n",
    "        axs[i % num_colunas].imshow(imagem, cmap='gray')\n",
    "        axs[i % num_colunas].set_title(f'Label: {label}')\n",
    "        axs[i % num_colunas].axis('off')\n",
    "        if i % num_colunas == num_colunas - 1 or i == num_imagens - 1:\n",
    "            plt.tight_layout()\n",
    "            # plt.show()\n",
    "            plt.savefig(f'plots/plot_{i}.png')\n",
    "            if i != num_imagens - 1:\n",
    "                fig, axs = plt.subplots(1, num_colunas, figsize=(16, 4))\n"
   ]
  },
  {
   "cell_type": "code",
   "execution_count": 7,
   "metadata": {},
   "outputs": [],
   "source": [
    "## remontar imagem, caso queira checar\n",
    "\n",
    "\n",
    "def remontar_imagem(janelas, largura_original, altura_original):\n",
    "    num_janelas, altura_janela, largura_janela, _ = janelas.shape\n",
    "    janelas_por_linha = largura_original // largura_janela\n",
    "    imagem_remontada = np.zeros((altura_original, largura_original, 3), dtype=np.uint8)\n",
    "    for i in range(num_janelas):\n",
    "        linha = i // janelas_por_linha\n",
    "        coluna = i % janelas_por_linha\n",
    "        x1 = coluna * largura_janela\n",
    "        x2 = x1 + largura_janela\n",
    "        y1 = linha * altura_janela\n",
    "        y2 = y1 + altura_janela\n",
    "        # imagem_remontada[y1:y2, x1:x2, :] = janelas[i]\n",
    "        imagem_remontada[x1:x2, y1:y2, :] = janelas[i]\n",
    "    return imagem_remontada"
   ]
  },
  {
   "cell_type": "code",
   "execution_count": 8,
   "metadata": {},
   "outputs": [],
   "source": [
    "imagens, labels = criar_dataset(dataset_path)"
   ]
  },
  {
   "cell_type": "code",
   "execution_count": 9,
   "metadata": {},
   "outputs": [
    {
     "name": "stderr",
     "output_type": "stream",
     "text": [
      "C:\\Users\\joao_\\AppData\\Local\\Temp\\ipykernel_7416\\748653295.py:20: RuntimeWarning: More than 20 figures have been opened. Figures created through the pyplot interface (`matplotlib.pyplot.figure`) are retained until explicitly closed and may consume too much memory. (To control this warning, see the rcParam `figure.max_open_warning`). Consider using `matplotlib.pyplot.close()`.\n",
      "  fig, axs = plt.subplots(1, num_colunas, figsize=(16, 4))\n"
     ]
    }
   ],
   "source": [
    "# plotar_imagens_com_labels(imagens, labels)"
   ]
  },
  {
   "cell_type": "code",
   "execution_count": null,
   "metadata": {},
   "outputs": [],
   "source": [
    "primeira_imagem = imagens[:100]\n",
    "imagem_remontada = remontar_imagem(primeira_imagem, 3000, 3000)\n",
    "\n",
    "# Plote a imagem remontada\n",
    "plt.figure(figsize=(6, 6))\n",
    "plt.imshow(imagem_remontada)\n",
    "plt.title(\"Imagem Remontada\")\n",
    "plt.axis('off')\n",
    "plt.show()"
   ]
  },
  {
   "cell_type": "code",
   "execution_count": null,
   "metadata": {},
   "outputs": [],
   "source": [
    "labels"
   ]
  },
  {
   "cell_type": "code",
   "execution_count": null,
   "metadata": {},
   "outputs": [],
   "source": [
    "counter = 0\n",
    "for i in range(labels.shape[0]):\n",
    "    if labels[i] == 1:\n",
    "        counter +=1\n",
    "\n",
    "print('tamanho do array', labels.shape)\n",
    "print('quantidade de ruido', counter)"
   ]
  }
 ],
 "metadata": {
  "kernelspec": {
   "display_name": "base",
   "language": "python",
   "name": "python3"
  },
  "language_info": {
   "codemirror_mode": {
    "name": "ipython",
    "version": 3
   },
   "file_extension": ".py",
   "mimetype": "text/x-python",
   "name": "python",
   "nbconvert_exporter": "python",
   "pygments_lexer": "ipython3",
   "version": "3.10.9"
  },
  "orig_nbformat": 4
 },
 "nbformat": 4,
 "nbformat_minor": 2
}
